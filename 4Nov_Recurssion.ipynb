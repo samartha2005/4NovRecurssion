{
 "cells": [
  {
   "cell_type": "code",
   "execution_count": 1,
   "id": "67152bce-8b18-45f5-9e8c-e77f6051c096",
   "metadata": {},
   "outputs": [
    {
     "name": "stdout",
     "output_type": "stream",
     "text": [
      "Move disk 1 from A to C\n",
      "Move disk 2 from A to B\n",
      "Move disk 1 from C to B\n",
      "Move disk 3 from A to C\n",
      "Move disk 1 from B to A\n",
      "Move disk 2 from B to C\n",
      "Move disk 1 from A to C\n"
     ]
    }
   ],
   "source": [
    "'''Q.1 Can you explain the logic and working of the Tower of Hanoi algorithm by writing a python program?\n",
    "How does the recursion work, and how are the movements of disks between rods accomplished?'''\n",
    "\n",
    "# Code\n",
    "def tower_of_hanoi(n, source, target, auxiliary):\n",
    "    if n == 1:\n",
    "        print(f\"Move disk 1 from {source} to {target}\")\n",
    "        return\n",
    "    tower_of_hanoi(n-1, source, auxiliary, target)\n",
    "    print(f\"Move disk {n} from {source} to {target}\")\n",
    "    tower_of_hanoi(n-1, auxiliary, target, source)\n",
    "\n",
    "# Example usage\n",
    "n_disks = 3\n",
    "tower_of_hanoi(n_disks, 'A', 'C', 'B')\n",
    "\n",
    "\n",
    "\n",
    "'''\n",
    "tower_of_hanoi is a recursive function that takes four parameters:\n",
    "\n",
    "n: the number of disks to move.\n",
    "source: the source rod from which to move the disks.\n",
    "target: the target rod to which the disks should be moved.\n",
    "auxiliary: the auxiliary rod that can be used during the movement.\n",
    "The base case (n == 1) handles the situation where there is only one disk to move. In this case, it simply prints the move.\n",
    "\n",
    "In the recursive case (n > 1), the algorithm follows these steps:\n",
    "\n",
    "Move the top n-1 disks from the source rod to the auxiliary rod, using the target rod as an auxiliary.\n",
    "Move the nth disk from the source rod to the target rod.\n",
    "Move the n-1 disks from the auxiliary rod to the target rod, using the source rod as an auxiliary.\n",
    "The recursion continues until the base case is reached, \n",
    "effectively breaking down the problem of moving n disks into subproblems of moving n-1 disks.\n",
    "'''"
   ]
  },
  {
   "cell_type": "code",
   "execution_count": 6,
   "id": "8af1a6ba-3365-4f68-bd43-a647af6253f7",
   "metadata": {},
   "outputs": [
    {
     "name": "stdout",
     "output_type": "stream",
     "text": [
      "3\n",
      "5\n"
     ]
    }
   ],
   "source": [
    "'''Q.2 Given two strings word1 and word2, return the minimum number of operations required to convert word1\n",
    "to word2.'''\n",
    "\n",
    "# Code\n",
    "def min_distance(word1, word2):\n",
    "    m, n = len(word1), len(word2)\n",
    "\n",
    "    # Initialize a 2D array with dimensions (m+1) x (n+1)\n",
    "    dp = [[0] * (n + 1) for _ in range(m + 1)]\n",
    "\n",
    "    # Base cases: fill in the first row and column\n",
    "    for i in range(m + 1):\n",
    "        dp[i][0] = i\n",
    "    for j in range(n + 1):\n",
    "        dp[0][j] = j\n",
    "\n",
    "    # Fill in the rest of the array using dynamic programming\n",
    "    for i in range(1, m + 1):\n",
    "        for j in range(1, n + 1):\n",
    "            # If the characters are the same, no operation is needed\n",
    "            if word1[i - 1] == word2[j - 1]:\n",
    "                dp[i][j] = dp[i - 1][j - 1]\n",
    "            else:\n",
    "                # Perform one of the three operations: insert, delete, or replace\n",
    "                dp[i][j] = 1 + min(dp[i - 1][j],  # Deletion\n",
    "                                   dp[i][j - 1],  # Insertion\n",
    "                                   dp[i - 1][j - 1])  # Replacement\n",
    "\n",
    "    # The bottom-right cell contains the minimum number of operations\n",
    "    return dp[m][n]\n",
    "\n",
    "# Example 1:\n",
    "word1 = \"horse\"\n",
    "word2 = \"ros\"\n",
    "result = min_distance(word1, word2)\n",
    "print(result) \n",
    "\n",
    "# Example 2:\n",
    "word1 = \"intention\"\n",
    "word2 = \"execution\"\n",
    "result = min_distance(word1, word2)\n",
    "print(result)\n",
    "\n",
    "'''\n",
    "The idea is to create a 2D array dp, where dp[i][j] represents the minimum number of operations required to convert the \n",
    "first i characters of word1 to the first j characters of word2. \n",
    "The recurrence relation is based on three operations: insertion, deletion, and replacement.\n",
    "'''"
   ]
  },
  {
   "cell_type": "code",
   "execution_count": 7,
   "id": "9580f22e-c42b-4e9f-b5a9-c30ae31262e9",
   "metadata": {},
   "outputs": [
    {
     "name": "stdout",
     "output_type": "stream",
     "text": [
      "22\n"
     ]
    }
   ],
   "source": [
    "'''Q. 3 Print the max value of the array [ 13, 1, -3, 22, 5].'''\n",
    "\n",
    "# Code\n",
    "array = [13, 1, -3, 22, 5]\n",
    "max_value = max(array)\n",
    "print(max_value)\n",
    "\n",
    "\n",
    "'''\n",
    "To find the maximum value of an array in Python, we can use the built-in max function.\n",
    "'''"
   ]
  },
  {
   "cell_type": "code",
   "execution_count": 8,
   "id": "f6e4341f-1b84-4c5d-a9ca-b6b42183827c",
   "metadata": {},
   "outputs": [
    {
     "name": "stdout",
     "output_type": "stream",
     "text": [
      "120\n"
     ]
    }
   ],
   "source": [
    "'''Q.4 Find the sum of the values of the array [92, 23, 15, -20, 10].'''\n",
    "\n",
    "# Code\n",
    "array = [92, 23, 15, -20, 10]\n",
    "sum_of_values = sum(array)\n",
    "print(sum_of_values)\n",
    "\n",
    "\n",
    "'''\n",
    "To find the maximum value of an array in Python, we can use the built-in sum function.\n",
    "'''"
   ]
  },
  {
   "cell_type": "code",
   "execution_count": 9,
   "id": "7c9a8389-eb49-4000-bc66-a8da625893bd",
   "metadata": {},
   "outputs": [
    {
     "name": "stdout",
     "output_type": "stream",
     "text": [
      "Output1: Yes\n",
      "Output2: No\n"
     ]
    }
   ],
   "source": [
    "'''Q.5 Given a number n. Print if it is an armstrong number or not.An armstrong number is a number if the sum\n",
    "of every digit in that number raised to the power of total digits in that number is equal to the number.'''\n",
    "\n",
    "# Code\n",
    "def is_armstrong_number(n):\n",
    "    # Convert the number to a string to find the total number of digits\n",
    "    num_str = str(n)\n",
    "    num_digits = len(num_str)\n",
    "\n",
    "    # Calculate the sum of each digit raised to the power of total digits\n",
    "    armstrong_sum = sum(int(digit) ** num_digits for digit in num_str)\n",
    "\n",
    "    # Check if the sum is equal to the original number\n",
    "    return armstrong_sum == n\n",
    "\n",
    "# Example usage:\n",
    "input_number1 = 153\n",
    "output1 = is_armstrong_number(input_number1)\n",
    "print(\"Output1:\", \"Yes\" if output1 else \"No\")\n",
    "\n",
    "input_number2 = 134\n",
    "output2 = is_armstrong_number(input_number2)\n",
    "print(\"Output2:\", \"Yes\" if output2 else \"No\")\n",
    "\n",
    "\n",
    "\n",
    "\n",
    "'''\n",
    "In this code, the is_armstrong_number function takes an integer n as input, calculates the total number of digits, \n",
    "and then computes the sum of each digit raised to the power of the total digits.\n",
    "Finally, it checks if the sum is equal to the original number.\n",
    "\n",
    "The example usage with input_number1 and input_number2 demonstrates how to use the function for specific input values.\n",
    "The program will output \"Yes\" for the Armstrong number (153) and \"No\" for the non-Armstrong number (134).\n",
    "\n",
    "'''"
   ]
  }
 ],
 "metadata": {
  "kernelspec": {
   "display_name": "Python 3 (ipykernel)",
   "language": "python",
   "name": "python3"
  },
  "language_info": {
   "codemirror_mode": {
    "name": "ipython",
    "version": 3
   },
   "file_extension": ".py",
   "mimetype": "text/x-python",
   "name": "python",
   "nbconvert_exporter": "python",
   "pygments_lexer": "ipython3",
   "version": "3.10.8"
  }
 },
 "nbformat": 4,
 "nbformat_minor": 5
}
